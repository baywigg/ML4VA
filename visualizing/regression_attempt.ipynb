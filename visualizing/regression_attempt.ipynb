{
 "cells": [
  {
   "cell_type": "code",
   "id": "initial_id",
   "metadata": {
    "collapsed": true,
    "ExecuteTime": {
     "end_time": "2025-04-03T03:36:45.309223Z",
     "start_time": "2025-04-03T03:36:44.925175Z"
    }
   },
   "source": [
    "import pandas as pd\n",
    "\n",
    "calls_by_district_and_time_segment = pd.read_csv('../data/clean/calls_by_district_and_time_segment.csv')\n",
    "calls_by_district_and_time_segment[['NAME', 'weekday', 'week_of_year', 'time_segment']].value_counts()"
   ],
   "outputs": [
    {
     "data": {
      "text/plain": [
       "NAME       weekday    week_of_year  time_segment\n",
       "SOUTH END  Friday     18            AFTERNOON_3     26\n",
       "SHAWNEE    Friday     50            AFTERNOON_3     20\n",
       "SOUTH END  Friday     18            AFTERNOON_2     20\n",
       "SHAWNEE    Friday     17            AFTERNOON_2     19\n",
       "           Tuesday    51            MORNING_4       17\n",
       "                                                    ..\n",
       "SOUTH END  Sunday     32            MORNING_4        1\n",
       "                                    MORNING_3        1\n",
       "                                    MORNING_2        1\n",
       "           Friday     38            MORNING_3        1\n",
       "           Wednesday  53            MORNING_1        1\n",
       "Name: count, Length: 10710, dtype: int64"
      ]
     },
     "execution_count": 2,
     "metadata": {},
     "output_type": "execute_result"
    }
   ],
   "execution_count": 2
  },
  {
   "metadata": {},
   "cell_type": "markdown",
   "source": [
    "week of year being numerical might be a problem\n",
    "\n",
    "might need to put year back into the data\n",
    "\n",
    "could average the count over all the years, or see if it's been steadily going up over the years (or going down, following some pattern)"
   ],
   "id": "473002ebb36d4c60"
  },
  {
   "metadata": {
    "ExecuteTime": {
     "end_time": "2025-04-03T15:10:59.865555Z",
     "start_time": "2025-04-03T15:10:59.818015Z"
    }
   },
   "cell_type": "code",
   "source": [
    "calls_by_district_and_time_segment_with_year = pd.read_csv('../data/clean/calls_by_district_and_time_segment_with_year.csv')\n",
    "calls_by_district_and_time_segment_with_year[['NAME', 'weekday', 'week_of_year', 'time_segment', 'year']].value_counts()"
   ],
   "id": "9f1eccdbc4ddbe6d",
   "outputs": [
    {
     "data": {
      "text/plain": [
       "NAME        weekday    week_of_year  time_segment  year\n",
       "SOUTH END   Friday     18            AFTERNOON_3   2018    12\n",
       "FRIENDSHIP  Thursday   29            MORNING_4     2017     8\n",
       "SOUTH END   Saturday   35            AFTERNOON_1   2024     8\n",
       "            Friday     43            AFTERNOON_2   2024     8\n",
       "FRIENDSHIP  Friday     37            AFTERNOON_3   2023     7\n",
       "                                                           ..\n",
       "ROUSS       Sunday     51            AFTERNOON_4   2020     1\n",
       "                                                   2016     1\n",
       "                                     AFTERNOON_3   2023     1\n",
       "                                     AFTERNOON_2   2024     1\n",
       "SOUTH END   Wednesday  53            MORNING_1     2020     1\n",
       "Name: count, Length: 32400, dtype: int64"
      ]
     },
     "execution_count": 2,
     "metadata": {},
     "output_type": "execute_result"
    }
   ],
   "execution_count": 2
  },
  {
   "metadata": {
    "ExecuteTime": {
     "end_time": "2025-04-03T03:56:36.447135Z",
     "start_time": "2025-04-03T03:56:36.371314Z"
    }
   },
   "cell_type": "code",
   "source": [
    "import pandas as pd\n",
    "from sklearn.model_selection import train_test_split\n",
    "from sklearn.linear_model import LinearRegression\n",
    "from sklearn.metrics import mean_squared_error\n",
    "import numpy as np\n",
    "\n",
    "# Step 1: Get value counts as a DataFrame\n",
    "counts = calls_by_district_and_time_segment_with_year[['NAME', 'weekday', 'week_of_year', 'time_segment', 'year']] \\\n",
    "    .value_counts().reset_index(name='call_count')\n",
    "\n",
    "# Step 2: One-hot encode categorical columns\n",
    "counts_encoded = pd.get_dummies(counts, columns=['NAME', 'weekday', 'time_segment'])\n",
    "\n",
    "# Step 3: Split into features and target\n",
    "X = counts_encoded.drop(columns='call_count')\n",
    "y = counts_encoded['call_count']\n",
    "\n",
    "# Step 4: Train, validation, and test split\n",
    "X_temp, X_test, y_temp, y_test = train_test_split(X, y, test_size=0.2, random_state=42)\n",
    "X_train, X_val, y_train, y_val = train_test_split(X_temp, y_temp, test_size=0.25, random_state=42)\n",
    "\n",
    "# Step 5: Train simple regression model\n",
    "model = LinearRegression()\n",
    "model.fit(X_train, y_train)\n",
    "\n",
    "# Step 6: Evaluate the model\n",
    "train_rmse = np.sqrt(mean_squared_error(y_train, model.predict(X_train)))\n",
    "val_rmse = np.sqrt(mean_squared_error(y_val, model.predict(X_val)))\n",
    "test_rmse = np.sqrt(mean_squared_error(y_test, model.predict(X_test)))\n",
    "\n",
    "print('Train RMSE:', train_rmse)\n",
    "print('Validation RMSE:', val_rmse)\n",
    "print('Test RMSE:', test_rmse)\n"
   ],
   "id": "7c431626d4812d9e",
   "outputs": [
    {
     "name": "stdout",
     "output_type": "stream",
     "text": [
      "Train RMSE: 0.6236700776423358\n",
      "Validation RMSE: 0.6130973044386522\n",
      "Test RMSE: 0.6029743568761035\n"
     ]
    }
   ],
   "execution_count": 6
  },
  {
   "metadata": {
    "ExecuteTime": {
     "end_time": "2025-04-03T04:08:32.316737Z",
     "start_time": "2025-04-03T04:08:32.298640Z"
    }
   },
   "cell_type": "code",
   "source": [
    "df = calls_by_district_and_time_segment_with_year.copy()\n",
    "\n",
    "filtered = df[\n",
    "    (df['weekday'] == 'Friday') &\n",
    "    (df['time_segment'] == 'AFTERNOON_1') &\n",
    "    (df['week_of_year'] == 2)\n",
    "    ]\n",
    "\n",
    "# Count number of calls by year\n",
    "call_counts = filtered['year'].value_counts().sort_index()\n",
    "\n",
    "print(call_counts)\n"
   ],
   "id": "6f42313e48baf425",
   "outputs": [
    {
     "name": "stdout",
     "output_type": "stream",
     "text": [
      "year\n",
      "2017    1\n",
      "2018    1\n",
      "2019    2\n",
      "2020    5\n",
      "2021    6\n",
      "2023    4\n",
      "2024    2\n",
      "2025    6\n",
      "Name: count, dtype: int64\n"
     ]
    }
   ],
   "execution_count": 33
  },
  {
   "metadata": {},
   "cell_type": "code",
   "outputs": [],
   "execution_count": null,
   "source": [
    "df = calls_by_district_and_time_segment_with_year.copy()\n",
    "\n",
    "# Count how many times each time segment appears (i.e., number of calls)\n",
    "avg_calls = df['time_segment'].value_counts().mean()\n",
    "\n",
    "print(\"Average number of calls per time segment:\", avg_calls)\n"
   ],
   "id": "49f30ee1b88ebbf5"
  },
  {
   "metadata": {},
   "cell_type": "markdown",
   "source": "",
   "id": "eba145f12368f292"
  },
  {
   "metadata": {
    "ExecuteTime": {
     "end_time": "2025-04-03T05:06:01.564177Z",
     "start_time": "2025-04-03T05:06:01.519768Z"
    }
   },
   "cell_type": "code",
   "source": [
    "counts = calls_by_district_and_time_segment_with_year[['NAME', 'weekday', 'week_of_year', 'time_segment', 'year']] \\\n",
    "    .value_counts().reset_index(name='call_count')\n",
    "\n",
    "# Step 2: One-hot encode categorical columns\n",
    "counts_encoded = pd.get_dummies(counts, columns=['NAME', 'weekday', 'time_segment'])\n",
    "\n",
    "avg_calls = counts['call_count'].mean()\n",
    "\n",
    "print(avg_calls)"
   ],
   "id": "3030eb757bfa6e3c",
   "outputs": [
    {
     "name": "stdout",
     "output_type": "stream",
     "text": [
      "1.3173765432098765\n"
     ]
    }
   ],
   "execution_count": 36
  },
  {
   "metadata": {},
   "cell_type": "markdown",
   "source": "Could this be an issue here with there being no entries with 0 for a particular station, weekday, week of year, time segment, and year combination.",
   "id": "8feba792a6736924"
  },
  {
   "metadata": {
    "ExecuteTime": {
     "end_time": "2025-04-03T05:06:06.939293Z",
     "start_time": "2025-04-03T05:06:06.925531Z"
    }
   },
   "cell_type": "code",
   "source": [
    "counts.head()\n",
    "\n"
   ],
   "id": "3d9c71bff78c5a12",
   "outputs": [
    {
     "data": {
      "text/plain": [
       "         NAME   weekday  week_of_year time_segment  year  call_count\n",
       "0   SOUTH END    Friday            18  AFTERNOON_3  2018          12\n",
       "1  FRIENDSHIP  Thursday            29    MORNING_4  2017           8\n",
       "2   SOUTH END  Saturday            35  AFTERNOON_1  2024           8\n",
       "3   SOUTH END    Friday            43  AFTERNOON_2  2024           8\n",
       "4  FRIENDSHIP    Friday            37  AFTERNOON_3  2023           7"
      ],
      "text/html": [
       "<div>\n",
       "<style scoped>\n",
       "    .dataframe tbody tr th:only-of-type {\n",
       "        vertical-align: middle;\n",
       "    }\n",
       "\n",
       "    .dataframe tbody tr th {\n",
       "        vertical-align: top;\n",
       "    }\n",
       "\n",
       "    .dataframe thead th {\n",
       "        text-align: right;\n",
       "    }\n",
       "</style>\n",
       "<table border=\"1\" class=\"dataframe\">\n",
       "  <thead>\n",
       "    <tr style=\"text-align: right;\">\n",
       "      <th></th>\n",
       "      <th>NAME</th>\n",
       "      <th>weekday</th>\n",
       "      <th>week_of_year</th>\n",
       "      <th>time_segment</th>\n",
       "      <th>year</th>\n",
       "      <th>call_count</th>\n",
       "    </tr>\n",
       "  </thead>\n",
       "  <tbody>\n",
       "    <tr>\n",
       "      <th>0</th>\n",
       "      <td>SOUTH END</td>\n",
       "      <td>Friday</td>\n",
       "      <td>18</td>\n",
       "      <td>AFTERNOON_3</td>\n",
       "      <td>2018</td>\n",
       "      <td>12</td>\n",
       "    </tr>\n",
       "    <tr>\n",
       "      <th>1</th>\n",
       "      <td>FRIENDSHIP</td>\n",
       "      <td>Thursday</td>\n",
       "      <td>29</td>\n",
       "      <td>MORNING_4</td>\n",
       "      <td>2017</td>\n",
       "      <td>8</td>\n",
       "    </tr>\n",
       "    <tr>\n",
       "      <th>2</th>\n",
       "      <td>SOUTH END</td>\n",
       "      <td>Saturday</td>\n",
       "      <td>35</td>\n",
       "      <td>AFTERNOON_1</td>\n",
       "      <td>2024</td>\n",
       "      <td>8</td>\n",
       "    </tr>\n",
       "    <tr>\n",
       "      <th>3</th>\n",
       "      <td>SOUTH END</td>\n",
       "      <td>Friday</td>\n",
       "      <td>43</td>\n",
       "      <td>AFTERNOON_2</td>\n",
       "      <td>2024</td>\n",
       "      <td>8</td>\n",
       "    </tr>\n",
       "    <tr>\n",
       "      <th>4</th>\n",
       "      <td>FRIENDSHIP</td>\n",
       "      <td>Friday</td>\n",
       "      <td>37</td>\n",
       "      <td>AFTERNOON_3</td>\n",
       "      <td>2023</td>\n",
       "      <td>7</td>\n",
       "    </tr>\n",
       "  </tbody>\n",
       "</table>\n",
       "</div>"
      ]
     },
     "execution_count": 37,
     "metadata": {},
     "output_type": "execute_result"
    }
   ],
   "execution_count": 37
  },
  {
   "metadata": {
    "ExecuteTime": {
     "end_time": "2025-04-03T05:09:22.360131Z",
     "start_time": "2025-04-03T05:09:22.329407Z"
    }
   },
   "cell_type": "code",
   "source": [
    "df = calls_by_district_and_time_segment_with_year.copy()\n",
    "\n",
    "filtered = df[\n",
    "    (df['weekday'] == 'Friday') &\n",
    "    (df['week_of_year'] == 18) &\n",
    "    (df['time_segment'] == 'AFTERNOON_3') &\n",
    "    (df['year'] == 2018)\n",
    "    ]\n",
    "\n",
    "print(filtered)\n"
   ],
   "id": "67e311963486e527",
   "outputs": [
    {
     "name": "stdout",
     "output_type": "stream",
     "text": [
      "                         CallDescription        NAME weekday  week_of_year  \\\n",
      "7017                             Z-Other   SOUTH END  Friday            18   \n",
      "7023                             Z-Other   SOUTH END  Friday            18   \n",
      "7030                             Z-Other  FRIENDSHIP  Friday            18   \n",
      "7032                             Assault  FRIENDSHIP  Friday            18   \n",
      "7033                         Sick Person   SOUTH END  Friday            18   \n",
      "7034          Chest Pain (Non-Traumatic)   SOUTH END  Friday            18   \n",
      "7035  Unconscious/Fainting/Near-Fainting   SOUTH END  Friday            18   \n",
      "7040                   Breathing Problem   SOUTH END  Friday            18   \n",
      "7143            Allergic Reaction/Stings   SOUTH END  Friday            18   \n",
      "7232            Allergic Reaction/Stings   SOUTH END  Friday            18   \n",
      "7245                   Breathing Problem   SOUTH END  Friday            18   \n",
      "7264            Allergic Reaction/Stings   SOUTH END  Friday            18   \n",
      "7278            Allergic Reaction/Stings   SOUTH END  Friday            18   \n",
      "7291                               Falls       ROUSS  Friday            18   \n",
      "7300         Unknown Problem/Person Down  FRIENDSHIP  Friday            18   \n",
      "7309                   Breathing Problem   SOUTH END  Friday            18   \n",
      "7321  Unconscious/Fainting/Near-Fainting       ROUSS  Friday            18   \n",
      "7324                   Breathing Problem       ROUSS  Friday            18   \n",
      "\n",
      "     time_segment  year  \n",
      "7017  AFTERNOON_3  2018  \n",
      "7023  AFTERNOON_3  2018  \n",
      "7030  AFTERNOON_3  2018  \n",
      "7032  AFTERNOON_3  2018  \n",
      "7033  AFTERNOON_3  2018  \n",
      "7034  AFTERNOON_3  2018  \n",
      "7035  AFTERNOON_3  2018  \n",
      "7040  AFTERNOON_3  2018  \n",
      "7143  AFTERNOON_3  2018  \n",
      "7232  AFTERNOON_3  2018  \n",
      "7245  AFTERNOON_3  2018  \n",
      "7264  AFTERNOON_3  2018  \n",
      "7278  AFTERNOON_3  2018  \n",
      "7291  AFTERNOON_3  2018  \n",
      "7300  AFTERNOON_3  2018  \n",
      "7309  AFTERNOON_3  2018  \n",
      "7321  AFTERNOON_3  2018  \n",
      "7324  AFTERNOON_3  2018  \n"
     ]
    }
   ],
   "execution_count": 39
  },
  {
   "metadata": {
    "ExecuteTime": {
     "end_time": "2025-04-03T15:16:27.665365Z",
     "start_time": "2025-04-03T15:16:27.633577Z"
    }
   },
   "cell_type": "code",
   "source": [
    "# df['week_sin'] = np.sin(2 * np.pi * df['week'] / 52)\n",
    "# df['week_cos'] = np.cos(2 * np.pi * df['week'] / 52)\n",
    "\n",
    "import pandas as pd\n",
    "from sklearn.model_selection import train_test_split\n",
    "from sklearn.linear_model import LinearRegression\n",
    "from sklearn.metrics import mean_squared_error\n",
    "import numpy as np\n",
    "\n",
    "# Step 1: Get value counts as a DataFrame\n",
    "counts = calls_by_district_and_time_segment_with_year[['NAME', 'weekday', 'week_of_year', 'time_segment', 'year']].value_counts().reset_index(name='call_count')\n",
    "\n",
    "# Step 2: One-hot encode categorical columns\n",
    "counts_encoded = pd.get_dummies(counts, columns=['NAME', 'weekday', 'time_segment'])\n",
    "\n",
    "counts_encoded['week_of_year_sin'] = np.sin(2 * np.pi * counts_encoded['week_of_year'] / 53.0)\n",
    "counts_encoded['week_of_year_cos'] = np.cos(2 * np.pi * counts_encoded['week_of_year'] / 53.0)\n",
    "\n",
    "counts_encoded.head()\n",
    "\n",
    "\n"
   ],
   "id": "8fd8aa084b455d4c",
   "outputs": [
    {
     "data": {
      "text/plain": [
       "   week_of_year  year  call_count  NAME_FRIENDSHIP  NAME_ROUSS  NAME_SHAWNEE  \\\n",
       "0            18  2018          12            False       False         False   \n",
       "1            29  2017           8             True       False         False   \n",
       "2            35  2024           8            False       False         False   \n",
       "3            43  2024           8            False       False         False   \n",
       "4            37  2023           7             True       False         False   \n",
       "\n",
       "   NAME_SOUTH END  weekday_Friday  weekday_Monday  weekday_Saturday  ...  \\\n",
       "0            True            True           False             False  ...   \n",
       "1           False           False           False             False  ...   \n",
       "2            True           False           False              True  ...   \n",
       "3            True            True           False             False  ...   \n",
       "4           False            True           False             False  ...   \n",
       "\n",
       "   time_segment_AFTERNOON_1  time_segment_AFTERNOON_2  \\\n",
       "0                     False                     False   \n",
       "1                     False                     False   \n",
       "2                      True                     False   \n",
       "3                     False                      True   \n",
       "4                     False                     False   \n",
       "\n",
       "   time_segment_AFTERNOON_3  time_segment_AFTERNOON_4  time_segment_MORNING_1  \\\n",
       "0                      True                     False                   False   \n",
       "1                     False                     False                   False   \n",
       "2                     False                     False                   False   \n",
       "3                     False                     False                   False   \n",
       "4                      True                     False                   False   \n",
       "\n",
       "   time_segment_MORNING_2  time_segment_MORNING_3  time_segment_MORNING_4  \\\n",
       "0                   False                   False                   False   \n",
       "1                   False                   False                    True   \n",
       "2                   False                   False                   False   \n",
       "3                   False                   False                   False   \n",
       "4                   False                   False                   False   \n",
       "\n",
       "   week_of_year_sin  week_of_year_cos  \n",
       "0          0.845596         -0.533823  \n",
       "1         -0.292057         -0.956401  \n",
       "2         -0.845596         -0.533823  \n",
       "3         -0.926690          0.375828  \n",
       "4         -0.947326         -0.320270  \n",
       "\n",
       "[5 rows x 24 columns]"
      ],
      "text/html": [
       "<div>\n",
       "<style scoped>\n",
       "    .dataframe tbody tr th:only-of-type {\n",
       "        vertical-align: middle;\n",
       "    }\n",
       "\n",
       "    .dataframe tbody tr th {\n",
       "        vertical-align: top;\n",
       "    }\n",
       "\n",
       "    .dataframe thead th {\n",
       "        text-align: right;\n",
       "    }\n",
       "</style>\n",
       "<table border=\"1\" class=\"dataframe\">\n",
       "  <thead>\n",
       "    <tr style=\"text-align: right;\">\n",
       "      <th></th>\n",
       "      <th>week_of_year</th>\n",
       "      <th>year</th>\n",
       "      <th>call_count</th>\n",
       "      <th>NAME_FRIENDSHIP</th>\n",
       "      <th>NAME_ROUSS</th>\n",
       "      <th>NAME_SHAWNEE</th>\n",
       "      <th>NAME_SOUTH END</th>\n",
       "      <th>weekday_Friday</th>\n",
       "      <th>weekday_Monday</th>\n",
       "      <th>weekday_Saturday</th>\n",
       "      <th>...</th>\n",
       "      <th>time_segment_AFTERNOON_1</th>\n",
       "      <th>time_segment_AFTERNOON_2</th>\n",
       "      <th>time_segment_AFTERNOON_3</th>\n",
       "      <th>time_segment_AFTERNOON_4</th>\n",
       "      <th>time_segment_MORNING_1</th>\n",
       "      <th>time_segment_MORNING_2</th>\n",
       "      <th>time_segment_MORNING_3</th>\n",
       "      <th>time_segment_MORNING_4</th>\n",
       "      <th>week_of_year_sin</th>\n",
       "      <th>week_of_year_cos</th>\n",
       "    </tr>\n",
       "  </thead>\n",
       "  <tbody>\n",
       "    <tr>\n",
       "      <th>0</th>\n",
       "      <td>18</td>\n",
       "      <td>2018</td>\n",
       "      <td>12</td>\n",
       "      <td>False</td>\n",
       "      <td>False</td>\n",
       "      <td>False</td>\n",
       "      <td>True</td>\n",
       "      <td>True</td>\n",
       "      <td>False</td>\n",
       "      <td>False</td>\n",
       "      <td>...</td>\n",
       "      <td>False</td>\n",
       "      <td>False</td>\n",
       "      <td>True</td>\n",
       "      <td>False</td>\n",
       "      <td>False</td>\n",
       "      <td>False</td>\n",
       "      <td>False</td>\n",
       "      <td>False</td>\n",
       "      <td>0.845596</td>\n",
       "      <td>-0.533823</td>\n",
       "    </tr>\n",
       "    <tr>\n",
       "      <th>1</th>\n",
       "      <td>29</td>\n",
       "      <td>2017</td>\n",
       "      <td>8</td>\n",
       "      <td>True</td>\n",
       "      <td>False</td>\n",
       "      <td>False</td>\n",
       "      <td>False</td>\n",
       "      <td>False</td>\n",
       "      <td>False</td>\n",
       "      <td>False</td>\n",
       "      <td>...</td>\n",
       "      <td>False</td>\n",
       "      <td>False</td>\n",
       "      <td>False</td>\n",
       "      <td>False</td>\n",
       "      <td>False</td>\n",
       "      <td>False</td>\n",
       "      <td>False</td>\n",
       "      <td>True</td>\n",
       "      <td>-0.292057</td>\n",
       "      <td>-0.956401</td>\n",
       "    </tr>\n",
       "    <tr>\n",
       "      <th>2</th>\n",
       "      <td>35</td>\n",
       "      <td>2024</td>\n",
       "      <td>8</td>\n",
       "      <td>False</td>\n",
       "      <td>False</td>\n",
       "      <td>False</td>\n",
       "      <td>True</td>\n",
       "      <td>False</td>\n",
       "      <td>False</td>\n",
       "      <td>True</td>\n",
       "      <td>...</td>\n",
       "      <td>True</td>\n",
       "      <td>False</td>\n",
       "      <td>False</td>\n",
       "      <td>False</td>\n",
       "      <td>False</td>\n",
       "      <td>False</td>\n",
       "      <td>False</td>\n",
       "      <td>False</td>\n",
       "      <td>-0.845596</td>\n",
       "      <td>-0.533823</td>\n",
       "    </tr>\n",
       "    <tr>\n",
       "      <th>3</th>\n",
       "      <td>43</td>\n",
       "      <td>2024</td>\n",
       "      <td>8</td>\n",
       "      <td>False</td>\n",
       "      <td>False</td>\n",
       "      <td>False</td>\n",
       "      <td>True</td>\n",
       "      <td>True</td>\n",
       "      <td>False</td>\n",
       "      <td>False</td>\n",
       "      <td>...</td>\n",
       "      <td>False</td>\n",
       "      <td>True</td>\n",
       "      <td>False</td>\n",
       "      <td>False</td>\n",
       "      <td>False</td>\n",
       "      <td>False</td>\n",
       "      <td>False</td>\n",
       "      <td>False</td>\n",
       "      <td>-0.926690</td>\n",
       "      <td>0.375828</td>\n",
       "    </tr>\n",
       "    <tr>\n",
       "      <th>4</th>\n",
       "      <td>37</td>\n",
       "      <td>2023</td>\n",
       "      <td>7</td>\n",
       "      <td>True</td>\n",
       "      <td>False</td>\n",
       "      <td>False</td>\n",
       "      <td>False</td>\n",
       "      <td>True</td>\n",
       "      <td>False</td>\n",
       "      <td>False</td>\n",
       "      <td>...</td>\n",
       "      <td>False</td>\n",
       "      <td>False</td>\n",
       "      <td>True</td>\n",
       "      <td>False</td>\n",
       "      <td>False</td>\n",
       "      <td>False</td>\n",
       "      <td>False</td>\n",
       "      <td>False</td>\n",
       "      <td>-0.947326</td>\n",
       "      <td>-0.320270</td>\n",
       "    </tr>\n",
       "  </tbody>\n",
       "</table>\n",
       "<p>5 rows × 24 columns</p>\n",
       "</div>"
      ]
     },
     "execution_count": 12,
     "metadata": {},
     "output_type": "execute_result"
    }
   ],
   "execution_count": 12
  },
  {
   "metadata": {
    "ExecuteTime": {
     "end_time": "2025-04-03T15:17:40.091819Z",
     "start_time": "2025-04-03T15:17:40.069483Z"
    }
   },
   "cell_type": "code",
   "source": [
    "\n",
    "# Step 3: Split into features and target\n",
    "X = counts_encoded.drop(columns=['call_count', 'week_of_year'])\n",
    "y = counts_encoded['call_count']\n",
    "\n",
    "# Step 4: Train, validation, and test split\n",
    "X_temp, X_test, y_temp, y_test = train_test_split(X, y, test_size=0.2, random_state=42)\n",
    "X_train, X_val, y_train, y_val = train_test_split(X_temp, y_temp, test_size=0.25, random_state=42)\n",
    "\n",
    "# Step 5: Train simple regression model\n",
    "model = LinearRegression()\n",
    "model.fit(X_train, y_train)\n",
    "\n",
    "# Step 6: Evaluate the model\n",
    "train_rmse = np.sqrt(mean_squared_error(y_train, model.predict(X_train)))\n",
    "val_rmse = np.sqrt(mean_squared_error(y_val, model.predict(X_val)))\n",
    "test_rmse = np.sqrt(mean_squared_error(y_test, model.predict(X_test)))\n",
    "\n",
    "print(len(model.coef_))\n",
    "\n",
    "print('Train RMSE:', train_rmse)\n",
    "print('Validation RMSE:', val_rmse)\n",
    "print('Test RMSE:', test_rmse)"
   ],
   "id": "da75e6a0b57715e0",
   "outputs": [
    {
     "name": "stdout",
     "output_type": "stream",
     "text": [
      "22\n",
      "Train RMSE: 0.6236388328882084\n",
      "Validation RMSE: 0.6129868314495341\n",
      "Test RMSE: 0.6031189492035769\n"
     ]
    }
   ],
   "execution_count": 15
  }
 ],
 "metadata": {
  "kernelspec": {
   "display_name": "Python 3",
   "language": "python",
   "name": "python3"
  },
  "language_info": {
   "codemirror_mode": {
    "name": "ipython",
    "version": 2
   },
   "file_extension": ".py",
   "mimetype": "text/x-python",
   "name": "python",
   "nbconvert_exporter": "python",
   "pygments_lexer": "ipython2",
   "version": "2.7.6"
  }
 },
 "nbformat": 4,
 "nbformat_minor": 5
}
