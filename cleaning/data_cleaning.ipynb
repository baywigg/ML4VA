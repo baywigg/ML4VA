{
 "cells": [
  {
   "cell_type": "code",
   "execution_count": 132,
   "metadata": {
    "ExecuteTime": {
     "end_time": "2025-04-02T18:24:50.929650Z",
     "start_time": "2025-04-02T18:24:50.923783Z"
    }
   },
   "outputs": [],
   "source": [
    "import pandas as pd"
   ]
  },
  {
   "cell_type": "code",
   "execution_count": 133,
   "metadata": {
    "ExecuteTime": {
     "end_time": "2025-04-02T18:24:51.322897Z",
     "start_time": "2025-04-02T18:24:50.936528Z"
    }
   },
   "outputs": [
    {
     "data": {
      "application/vnd.microsoft.datawrangler.viewer.v0+json": {
       "columns": [
        {
         "name": "index",
         "rawType": "int64",
         "type": "integer"
        },
        {
         "name": "IncidentNumber",
         "rawType": "object",
         "type": "string"
        },
        {
         "name": "CallDescription",
         "rawType": "object",
         "type": "string"
        },
        {
         "name": "Longitude",
         "rawType": "float64",
         "type": "float"
        },
        {
         "name": "Latitude",
         "rawType": "float64",
         "type": "float"
        },
        {
         "name": "CallDateTime",
         "rawType": "datetime64[ns]",
         "type": "datetime"
        }
       ],
       "conversionMethod": "pd.DataFrame",
       "ref": "de6fc83f-45ca-4240-9601-058b79478f42",
       "rows": [
        [
         "0",
         "16-048239",
         "Sick Person",
         "-78.16412213367745",
         "39.17131640406361",
         "2016-12-01 05:35:23"
        ],
        [
         "1",
         "16-048253",
         "Falls",
         "-78.17072920926036",
         "39.1676104474462",
         "2016-12-01 10:03:51"
        ],
        [
         "2",
         "16-048320",
         "Falls",
         "-78.15911052010902",
         "39.175519573698054",
         "2016-12-01 16:58:41"
        ],
        [
         "3",
         "16-048340",
         "Sick Person",
         "-78.18603422132855",
         "39.138891418673154",
         "2016-12-01 20:42:58"
        ],
        [
         "4",
         "16-048354",
         "Sick Person",
         "-78.16596138263881",
         "39.18756374147755",
         "2016-12-01 23:16:32"
        ]
       ],
       "shape": {
        "columns": 5,
        "rows": 5
       }
      },
      "text/html": [
       "<div>\n",
       "<style scoped>\n",
       "    .dataframe tbody tr th:only-of-type {\n",
       "        vertical-align: middle;\n",
       "    }\n",
       "\n",
       "    .dataframe tbody tr th {\n",
       "        vertical-align: top;\n",
       "    }\n",
       "\n",
       "    .dataframe thead th {\n",
       "        text-align: right;\n",
       "    }\n",
       "</style>\n",
       "<table border=\"1\" class=\"dataframe\">\n",
       "  <thead>\n",
       "    <tr style=\"text-align: right;\">\n",
       "      <th></th>\n",
       "      <th>IncidentNumber</th>\n",
       "      <th>CallDescription</th>\n",
       "      <th>Longitude</th>\n",
       "      <th>Latitude</th>\n",
       "      <th>CallDateTime</th>\n",
       "    </tr>\n",
       "  </thead>\n",
       "  <tbody>\n",
       "    <tr>\n",
       "      <th>0</th>\n",
       "      <td>16-048239</td>\n",
       "      <td>Sick Person</td>\n",
       "      <td>-78.164122</td>\n",
       "      <td>39.171316</td>\n",
       "      <td>2016-12-01 05:35:23</td>\n",
       "    </tr>\n",
       "    <tr>\n",
       "      <th>1</th>\n",
       "      <td>16-048253</td>\n",
       "      <td>Falls</td>\n",
       "      <td>-78.170729</td>\n",
       "      <td>39.167610</td>\n",
       "      <td>2016-12-01 10:03:51</td>\n",
       "    </tr>\n",
       "    <tr>\n",
       "      <th>2</th>\n",
       "      <td>16-048320</td>\n",
       "      <td>Falls</td>\n",
       "      <td>-78.159111</td>\n",
       "      <td>39.175520</td>\n",
       "      <td>2016-12-01 16:58:41</td>\n",
       "    </tr>\n",
       "    <tr>\n",
       "      <th>3</th>\n",
       "      <td>16-048340</td>\n",
       "      <td>Sick Person</td>\n",
       "      <td>-78.186034</td>\n",
       "      <td>39.138891</td>\n",
       "      <td>2016-12-01 20:42:58</td>\n",
       "    </tr>\n",
       "    <tr>\n",
       "      <th>4</th>\n",
       "      <td>16-048354</td>\n",
       "      <td>Sick Person</td>\n",
       "      <td>-78.165961</td>\n",
       "      <td>39.187564</td>\n",
       "      <td>2016-12-01 23:16:32</td>\n",
       "    </tr>\n",
       "  </tbody>\n",
       "</table>\n",
       "</div>"
      ],
      "text/plain": [
       "  IncidentNumber CallDescription  Longitude   Latitude        CallDateTime\n",
       "0      16-048239     Sick Person -78.164122  39.171316 2016-12-01 05:35:23\n",
       "1      16-048253           Falls -78.170729  39.167610 2016-12-01 10:03:51\n",
       "2      16-048320           Falls -78.159111  39.175520 2016-12-01 16:58:41\n",
       "3      16-048340     Sick Person -78.186034  39.138891 2016-12-01 20:42:58\n",
       "4      16-048354     Sick Person -78.165961  39.187564 2016-12-01 23:16:32"
      ]
     },
     "execution_count": 133,
     "metadata": {},
     "output_type": "execute_result"
    }
   ],
   "source": [
    "calls = pd.read_excel('../data/Winchester_EMS_calls_RAW.xls')\n",
    "calls.head()"
   ]
  },
  {
   "cell_type": "code",
   "execution_count": 134,
   "metadata": {
    "ExecuteTime": {
     "end_time": "2025-04-02T18:24:51.357913Z",
     "start_time": "2025-04-02T18:24:51.345513Z"
    }
   },
   "outputs": [
    {
     "data": {
      "application/vnd.microsoft.datawrangler.viewer.v0+json": {
       "columns": [
        {
         "name": "index",
         "rawType": "int64",
         "type": "integer"
        },
        {
         "name": "CallDescription",
         "rawType": "object",
         "type": "string"
        },
        {
         "name": "Longitude",
         "rawType": "float64",
         "type": "float"
        },
        {
         "name": "Latitude",
         "rawType": "float64",
         "type": "float"
        },
        {
         "name": "CallDateTime",
         "rawType": "datetime64[ns]",
         "type": "datetime"
        }
       ],
       "conversionMethod": "pd.DataFrame",
       "ref": "8c9fb708-c98a-401f-8469-e6d5ff6230c6",
       "rows": [
        [
         "0",
         "Sick Person",
         "-78.16412213367745",
         "39.17131640406361",
         "2016-12-01 05:35:23"
        ],
        [
         "1",
         "Falls",
         "-78.17072920926036",
         "39.1676104474462",
         "2016-12-01 10:03:51"
        ],
        [
         "2",
         "Falls",
         "-78.15911052010902",
         "39.175519573698054",
         "2016-12-01 16:58:41"
        ],
        [
         "3",
         "Sick Person",
         "-78.18603422132855",
         "39.138891418673154",
         "2016-12-01 20:42:58"
        ],
        [
         "4",
         "Sick Person",
         "-78.16596138263881",
         "39.18756374147755",
         "2016-12-01 23:16:32"
        ]
       ],
       "shape": {
        "columns": 4,
        "rows": 5
       }
      },
      "text/html": [
       "<div>\n",
       "<style scoped>\n",
       "    .dataframe tbody tr th:only-of-type {\n",
       "        vertical-align: middle;\n",
       "    }\n",
       "\n",
       "    .dataframe tbody tr th {\n",
       "        vertical-align: top;\n",
       "    }\n",
       "\n",
       "    .dataframe thead th {\n",
       "        text-align: right;\n",
       "    }\n",
       "</style>\n",
       "<table border=\"1\" class=\"dataframe\">\n",
       "  <thead>\n",
       "    <tr style=\"text-align: right;\">\n",
       "      <th></th>\n",
       "      <th>CallDescription</th>\n",
       "      <th>Longitude</th>\n",
       "      <th>Latitude</th>\n",
       "      <th>CallDateTime</th>\n",
       "    </tr>\n",
       "  </thead>\n",
       "  <tbody>\n",
       "    <tr>\n",
       "      <th>0</th>\n",
       "      <td>Sick Person</td>\n",
       "      <td>-78.164122</td>\n",
       "      <td>39.171316</td>\n",
       "      <td>2016-12-01 05:35:23</td>\n",
       "    </tr>\n",
       "    <tr>\n",
       "      <th>1</th>\n",
       "      <td>Falls</td>\n",
       "      <td>-78.170729</td>\n",
       "      <td>39.167610</td>\n",
       "      <td>2016-12-01 10:03:51</td>\n",
       "    </tr>\n",
       "    <tr>\n",
       "      <th>2</th>\n",
       "      <td>Falls</td>\n",
       "      <td>-78.159111</td>\n",
       "      <td>39.175520</td>\n",
       "      <td>2016-12-01 16:58:41</td>\n",
       "    </tr>\n",
       "    <tr>\n",
       "      <th>3</th>\n",
       "      <td>Sick Person</td>\n",
       "      <td>-78.186034</td>\n",
       "      <td>39.138891</td>\n",
       "      <td>2016-12-01 20:42:58</td>\n",
       "    </tr>\n",
       "    <tr>\n",
       "      <th>4</th>\n",
       "      <td>Sick Person</td>\n",
       "      <td>-78.165961</td>\n",
       "      <td>39.187564</td>\n",
       "      <td>2016-12-01 23:16:32</td>\n",
       "    </tr>\n",
       "  </tbody>\n",
       "</table>\n",
       "</div>"
      ],
      "text/plain": [
       "  CallDescription  Longitude   Latitude        CallDateTime\n",
       "0     Sick Person -78.164122  39.171316 2016-12-01 05:35:23\n",
       "1           Falls -78.170729  39.167610 2016-12-01 10:03:51\n",
       "2           Falls -78.159111  39.175520 2016-12-01 16:58:41\n",
       "3     Sick Person -78.186034  39.138891 2016-12-01 20:42:58\n",
       "4     Sick Person -78.165961  39.187564 2016-12-01 23:16:32"
      ]
     },
     "execution_count": 134,
     "metadata": {},
     "output_type": "execute_result"
    }
   ],
   "source": [
    "# Dropping the IncidentNumber column as it is not needed for training\n",
    "calls = calls.drop(columns=['IncidentNumber'])\n",
    "# Changing CallDateTime to datetime\n",
    "calls['CallDateTime'] = pd.to_datetime(calls['CallDateTime'])\n",
    "calls.head()"
   ]
  },
  {
   "cell_type": "code",
   "execution_count": 135,
   "metadata": {
    "ExecuteTime": {
     "end_time": "2025-04-02T18:24:51.398016Z",
     "start_time": "2025-04-02T18:24:51.392747Z"
    }
   },
   "outputs": [
    {
     "data": {
      "text/plain": [
       "array(['Sick Person', 'Falls', 'Unknown Problem/Person Down',\n",
       "       'Overdose/Poisoning/Ingestion', 'Chest Pain (Non-Traumatic)',\n",
       "       'Hemorrhage/Laceration', 'Traumatic Injury',\n",
       "       'Unconscious/Fainting/Near-Fainting', 'Cardiac Arrest/Death',\n",
       "       'Z-Other', 'Back Pain (Non-Traumatic)',\n",
       "       'Traffic/Transportation Incident', 'Heart Problems/AICD',\n",
       "       'Breathing Problem', 'Pregnancy/Childbirth/Miscarriage',\n",
       "       'Abdominal Pain/Problems', 'Convulsions/Seizure',\n",
       "       'Diabetic Problem', 'Stroke/CVA', 'Burns/Explosion',\n",
       "       'Allergic Reaction/Stings',\n",
       "       'Carbon Monoxide/Hazmat/Inhalation/CBRN',\n",
       "       'No Other Appropriate Choice',\n",
       "       'Industrial Accident/Inaccessible Incident/Other Entrapments (Non-Vehicle)',\n",
       "       'Assault', 'Headache',\n",
       "       'Psychiatric Problem/Abnormal Behavior/Suicide Attempt',\n",
       "       'Stab/Gunshot Wound/Penetrating Trauma', 'Animal Bite',\n",
       "       'Transfer/Interfacility/Palliative Care', 'Medical Alarm',\n",
       "       'Choking', 'Eye Problem/Injury', 'Fire', 'Standby',\n",
       "       'Electrocution/Lightning', 'Heat/Cold Exposure',\n",
       "       'Drowning/Diving/SCUBA Accident', 'Well Person Check'],\n",
       "      dtype=object)"
      ]
     },
     "execution_count": 135,
     "metadata": {},
     "output_type": "execute_result"
    }
   ],
   "source": [
    "# Find the unique values in the CallDescription column\n",
    "calls['CallDescription'].unique()"
   ]
  },
  {
   "cell_type": "code",
   "execution_count": 136,
   "metadata": {
    "ExecuteTime": {
     "end_time": "2025-04-02T18:24:51.529279Z",
     "start_time": "2025-04-02T18:24:51.523658Z"
    }
   },
   "outputs": [
    {
     "data": {
      "text/plain": [
       "CallDescription\n",
       "Sick Person                                                                  8556\n",
       "Breathing Problem                                                            4536\n",
       "Falls                                                                        4367\n",
       "Chest Pain (Non-Traumatic)                                                   3397\n",
       "Unconscious/Fainting/Near-Fainting                                           2809\n",
       "No Other Appropriate Choice                                                  2385\n",
       "Z-Other                                                                      1906\n",
       "Convulsions/Seizure                                                          1699\n",
       "Hemorrhage/Laceration                                                        1543\n",
       "Traffic/Transportation Incident                                              1478\n",
       "Abdominal Pain/Problems                                                      1251\n",
       "Overdose/Poisoning/Ingestion                                                  942\n",
       "Stroke/CVA                                                                    807\n",
       "Heart Problems/AICD                                                           800\n",
       "Diabetic Problem                                                              779\n",
       "Assault                                                                       777\n",
       "Cardiac Arrest/Death                                                          757\n",
       "Unknown Problem/Person Down                                                   692\n",
       "Fire                                                                          629\n",
       "Traumatic Injury                                                              562\n",
       "Back Pain (Non-Traumatic)                                                     511\n",
       "Allergic Reaction/Stings                                                      462\n",
       "Headache                                                                      291\n",
       "Pregnancy/Childbirth/Miscarriage                                              208\n",
       "Psychiatric Problem/Abnormal Behavior/Suicide Attempt                         208\n",
       "Choking                                                                       169\n",
       "Industrial Accident/Inaccessible Incident/Other Entrapments (Non-Vehicle)     124\n",
       "Stab/Gunshot Wound/Penetrating Trauma                                          86\n",
       "Eye Problem/Injury                                                             73\n",
       "Animal Bite                                                                    63\n",
       "Carbon Monoxide/Hazmat/Inhalation/CBRN                                         59\n",
       "Burns/Explosion                                                                36\n",
       "Standby                                                                        12\n",
       "Medical Alarm                                                                  10\n",
       "Transfer/Interfacility/Palliative Care                                          9\n",
       "Heat/Cold Exposure                                                              7\n",
       "Drowning/Diving/SCUBA Accident                                                  4\n",
       "Electrocution/Lightning                                                         3\n",
       "Well Person Check                                                               2\n",
       "Name: count, dtype: int64"
      ]
     },
     "execution_count": 136,
     "metadata": {},
     "output_type": "execute_result"
    }
   ],
   "source": [
    "# Get the values counts\n",
    "calls['CallDescription'].value_counts()"
   ]
  },
  {
   "cell_type": "code",
   "execution_count": 137,
   "metadata": {
    "ExecuteTime": {
     "end_time": "2025-04-02T18:24:51.746747Z",
     "start_time": "2025-04-02T18:24:51.744750Z"
    }
   },
   "outputs": [],
   "source": [
    "# Combine some of the call descriptions into more general categories\n",
    "def combine_call_descriptions(call_type, mapping):\n",
    "    for cat, type in mapping.items():\n",
    "        if call_type in type:\n",
    "            return cat\n",
    "    return \"Other\""
   ]
  },
  {
   "cell_type": "code",
   "execution_count": 138,
   "metadata": {
    "ExecuteTime": {
     "end_time": "2025-04-02T18:24:51.886033Z",
     "start_time": "2025-04-02T18:24:51.882899Z"
    }
   },
   "outputs": [],
   "source": [
    "# Mappings for specific call descriptions\n",
    "mapping_specific = {\n",
    "        \"General Medical Issue\": [\"Sick Person\", \"Unknown Problem/Person Down\", \"Medical Alarm\", \"No Other Appropriate Choice\"],\n",
    "        \"Cardiac & Circulatory Issues\": [\"Chest Pain (Non-Traumatic)\", \"Cardiac Arrest/Death\", \"Heart Problems/AICD\", \"Stroke/CVA\"],\n",
    "        \"Respiratory Issues\": [\"Breathing Problem\", \"Choking\", \"Carbon Monoxide/Hazmat/Inhalation/CBRN\"],\n",
    "        \"Neurological Issues\": [\"Convulsions/Seizure\", \"Headache\"],\n",
    "        \"Diabetic & Metabolic Issues\": [\"Diabetic Problem\", \"Heat/Cold Exposure\"],\n",
    "        \"Pregnancy & Birth-Related\": [\"Pregnancy/Childbirth/Miscarriage\"],\n",
    "        \"Falls & Minor Trauma\": [\"Falls\", \"Back Pain (Non-Traumatic)\", \"Traumatic Injury\"],\n",
    "        \"Serious Trauma & Wounds\": [\"Stab/Gunshot Wound/Penetrating Trauma\", \"Hemorrhage/Laceration\", \"Burns/Explosion\"],\n",
    "        \"Vehicle & Industrial Accidents\": [\"Traffic/Transportation Incident\", \"Industrial Accident/Inaccessible Incident/Other Entrapments (Non-Vehicle)\", \"Electrocution/Lightning\"],\n",
    "        \"Assault & Violence\": [\"Assault\", \"Animal Bite\"],\n",
    "        \"Drowning & Environmental Exposure\": [\"Drowning/Diving/SCUBA Accident\"],\n",
    "        \"Mental Health & Suicide\": [\"Psychiatric Problem/Abnormal Behavior/Suicide Attempt\"],\n",
    "        \"Substance-Related Issues\": [\"Overdose/Poisoning/Ingestion\", \"Allergic Reaction/Stings\"],\n",
    "        \"Non-Urgent Transport & Checks\": [\"Transfer/Interfacility/Palliative Care\", \"Well Person Check\", \"Standby\"]\n",
    "    }\n",
    "\n",
    "mapping_general = {\n",
    "        \"Medical Emergencies\": [\"Sick Person\", \"Unknown Problem/Person Down\", \"Medical Alarm\", \"No Other Appropriate Choice\", \n",
    "                \"Chest Pain (Non-Traumatic)\", \"Cardiac Arrest/Death\", \"Heart Problems/AICD\", \"Stroke/CVA\",\n",
    "                \"Breathing Problem\", \"Choking\", \"Carbon Monoxide/Hazmat/Inhalation/CBRN\",\n",
    "                \"Convulsions/Seizure\", \"Headache\", \"Diabetic Problem\", \"Heat/Cold Exposure\",\n",
    "                \"Pregnancy/Childbirth/Miscarriage\"],\n",
    "        \"Trauma & Injury\": [\"Falls\", \"Back Pain (Non-Traumatic)\", \"Traumatic Injury\", \"Stab/Gunshot Wound/Penetrating Trauma\", \n",
    "                \"Hemorrhage/Laceration\", \"Burns/Explosion\", \"Traffic/Transportation Incident\", \n",
    "                \"Industrial Accident/Inaccessible Incident/Other Entrapments (Non-Vehicle)\", \"Electrocution/Lightning\", \n",
    "                \"Assault\", \"Animal Bite\", \"Drowning/Diving/SCUBA Accident\"],\n",
    "        \"Behavioral & Psychiatric Issues\": [\"Psychiatric Problem/Abnormal Behavior/Suicide Attempt\"],\n",
    "        \"Non-Urgent Calls\": [\"Overdose/Poisoning/Ingestion\", \"Allergic Reaction/Stings\", \"Transfer/Interfacility/Palliative Care\", \n",
    "                \"Well Person Check\", \"Standby\"]\n",
    "}"
   ]
  },
  {
   "cell_type": "code",
   "execution_count": 139,
   "metadata": {
    "ExecuteTime": {
     "end_time": "2025-04-02T18:24:51.988128Z",
     "start_time": "2025-04-02T18:24:51.949275Z"
    }
   },
   "outputs": [],
   "source": [
    "# Apply the function to the CallDescription column  \n",
    "calls_specific_col = calls['CallDescription'].apply(combine_call_descriptions, mapping=mapping_specific)\n",
    "calls_general_col = calls['CallDescription'].apply(combine_call_descriptions, mapping=mapping_general)"
   ]
  },
  {
   "cell_type": "code",
   "execution_count": 140,
   "metadata": {
    "ExecuteTime": {
     "end_time": "2025-04-02T18:24:51.997244Z",
     "start_time": "2025-04-02T18:24:51.993124Z"
    }
   },
   "outputs": [],
   "source": [
    "# Create two new dataframes with each mapping\n",
    "calls_specific = calls.copy()\n",
    "calls_general = calls.copy()\n",
    "\n",
    "calls_specific['CallDescription'] = calls_specific_col\n",
    "calls_general['CallDescription'] = calls_general_col"
   ]
  },
  {
   "cell_type": "code",
   "execution_count": 141,
   "metadata": {
    "ExecuteTime": {
     "end_time": "2025-04-02T18:24:52.353725Z",
     "start_time": "2025-04-02T18:24:52.004435Z"
    }
   },
   "outputs": [],
   "source": [
    "# Save the new dataframes to csv files\n",
    "calls_specific.to_csv('../data/clean/calls_specific.csv', index=False)\n",
    "calls_general.to_csv('../data/clean/calls_general.csv', index=False)\n",
    "calls.to_csv('../data/clean/calls_full.csv', index=False)"
   ]
  },
  {
   "cell_type": "markdown",
   "metadata": {},
   "source": [
    "FROM HERE DOWN IS SEBASTIAN'S WORK ON CLASSIFYING EACH CALL INTO ITS DISTRICT"
   ]
  },
  {
   "cell_type": "code",
   "execution_count": 142,
   "metadata": {
    "ExecuteTime": {
     "end_time": "2025-04-02T18:29:33.268243Z",
     "start_time": "2025-04-02T18:29:33.102181Z"
    }
   },
   "outputs": [],
   "source": [
    "import geopandas as gpd\n",
    "# calls.head()\n",
    "gdf_points = gpd.GeoDataFrame(calls, geometry=gpd.points_from_xy(calls.Longitude, calls.Latitude), crs=\"EPSG:4326\")\n",
    "\n",
    "districts = gpd.read_file('../data/First_Due_Areas.geojson')\n",
    "\n",
    "\n",
    "classified = gpd.sjoin(gdf_points, districts, how=\"left\", predicate=\"within\")\n",
    "\n"
   ]
  },
  {
   "cell_type": "code",
   "execution_count": 143,
   "metadata": {
    "ExecuteTime": {
     "end_time": "2025-04-02T18:30:19.369565Z",
     "start_time": "2025-04-02T18:30:19.353753Z"
    }
   },
   "outputs": [
    {
     "data": {
      "text/html": [
       "<div>\n",
       "<style scoped>\n",
       "    .dataframe tbody tr th:only-of-type {\n",
       "        vertical-align: middle;\n",
       "    }\n",
       "\n",
       "    .dataframe tbody tr th {\n",
       "        vertical-align: top;\n",
       "    }\n",
       "\n",
       "    .dataframe thead th {\n",
       "        text-align: right;\n",
       "    }\n",
       "</style>\n",
       "<table border=\"1\" class=\"dataframe\">\n",
       "  <thead>\n",
       "    <tr style=\"text-align: right;\">\n",
       "      <th></th>\n",
       "      <th>CallDescription</th>\n",
       "      <th>Longitude</th>\n",
       "      <th>Latitude</th>\n",
       "      <th>CallDateTime</th>\n",
       "      <th>geometry</th>\n",
       "      <th>index_right</th>\n",
       "      <th>OBJECTID</th>\n",
       "      <th>NAME</th>\n",
       "      <th>STATION_NUM</th>\n",
       "      <th>SHAPESTArea</th>\n",
       "      <th>SHAPESTLength</th>\n",
       "    </tr>\n",
       "  </thead>\n",
       "  <tbody>\n",
       "    <tr>\n",
       "      <th>0</th>\n",
       "      <td>Sick Person</td>\n",
       "      <td>-78.164122</td>\n",
       "      <td>39.171316</td>\n",
       "      <td>2016-12-01 05:35:23</td>\n",
       "      <td>POINT (-78.16412 39.17132)</td>\n",
       "      <td>3.0</td>\n",
       "      <td>4.0</td>\n",
       "      <td>SOUTH END</td>\n",
       "      <td>5</td>\n",
       "      <td>4.712386e+07</td>\n",
       "      <td>54023.736232</td>\n",
       "    </tr>\n",
       "    <tr>\n",
       "      <th>1</th>\n",
       "      <td>Falls</td>\n",
       "      <td>-78.170729</td>\n",
       "      <td>39.167610</td>\n",
       "      <td>2016-12-01 10:03:51</td>\n",
       "      <td>POINT (-78.17073 39.16761)</td>\n",
       "      <td>3.0</td>\n",
       "      <td>4.0</td>\n",
       "      <td>SOUTH END</td>\n",
       "      <td>5</td>\n",
       "      <td>4.712386e+07</td>\n",
       "      <td>54023.736232</td>\n",
       "    </tr>\n",
       "    <tr>\n",
       "      <th>2</th>\n",
       "      <td>Falls</td>\n",
       "      <td>-78.159111</td>\n",
       "      <td>39.175520</td>\n",
       "      <td>2016-12-01 16:58:41</td>\n",
       "      <td>POINT (-78.15911 39.17552)</td>\n",
       "      <td>0.0</td>\n",
       "      <td>1.0</td>\n",
       "      <td>FRIENDSHIP</td>\n",
       "      <td>1</td>\n",
       "      <td>5.355029e+07</td>\n",
       "      <td>45003.624106</td>\n",
       "    </tr>\n",
       "    <tr>\n",
       "      <th>3</th>\n",
       "      <td>Sick Person</td>\n",
       "      <td>-78.186034</td>\n",
       "      <td>39.138891</td>\n",
       "      <td>2016-12-01 20:42:58</td>\n",
       "      <td>POINT (-78.18603 39.13889)</td>\n",
       "      <td>2.0</td>\n",
       "      <td>3.0</td>\n",
       "      <td>SHAWNEE</td>\n",
       "      <td>4</td>\n",
       "      <td>9.493346e+07</td>\n",
       "      <td>48784.408074</td>\n",
       "    </tr>\n",
       "    <tr>\n",
       "      <th>4</th>\n",
       "      <td>Sick Person</td>\n",
       "      <td>-78.165961</td>\n",
       "      <td>39.187564</td>\n",
       "      <td>2016-12-01 23:16:32</td>\n",
       "      <td>POINT (-78.16596 39.18756)</td>\n",
       "      <td>1.0</td>\n",
       "      <td>2.0</td>\n",
       "      <td>ROUSS</td>\n",
       "      <td>2</td>\n",
       "      <td>6.209217e+07</td>\n",
       "      <td>44937.483837</td>\n",
       "    </tr>\n",
       "    <tr>\n",
       "      <th>...</th>\n",
       "      <td>...</td>\n",
       "      <td>...</td>\n",
       "      <td>...</td>\n",
       "      <td>...</td>\n",
       "      <td>...</td>\n",
       "      <td>...</td>\n",
       "      <td>...</td>\n",
       "      <td>...</td>\n",
       "      <td>...</td>\n",
       "      <td>...</td>\n",
       "      <td>...</td>\n",
       "    </tr>\n",
       "    <tr>\n",
       "      <th>95</th>\n",
       "      <td>Unconscious/Fainting/Near-Fainting</td>\n",
       "      <td>-78.168421</td>\n",
       "      <td>39.175851</td>\n",
       "      <td>2016-12-07 15:52:33</td>\n",
       "      <td>POINT (-78.16842 39.17585)</td>\n",
       "      <td>3.0</td>\n",
       "      <td>4.0</td>\n",
       "      <td>SOUTH END</td>\n",
       "      <td>5</td>\n",
       "      <td>4.712386e+07</td>\n",
       "      <td>54023.736232</td>\n",
       "    </tr>\n",
       "    <tr>\n",
       "      <th>96</th>\n",
       "      <td>Sick Person</td>\n",
       "      <td>-78.172269</td>\n",
       "      <td>39.186694</td>\n",
       "      <td>2016-12-07 14:28:30</td>\n",
       "      <td>POINT (-78.17227 39.18669)</td>\n",
       "      <td>1.0</td>\n",
       "      <td>2.0</td>\n",
       "      <td>ROUSS</td>\n",
       "      <td>2</td>\n",
       "      <td>6.209217e+07</td>\n",
       "      <td>44937.483837</td>\n",
       "    </tr>\n",
       "    <tr>\n",
       "      <th>97</th>\n",
       "      <td>Breathing Problem</td>\n",
       "      <td>-78.180535</td>\n",
       "      <td>39.197024</td>\n",
       "      <td>2016-12-08 21:30:47</td>\n",
       "      <td>POINT (-78.18054 39.19702)</td>\n",
       "      <td>1.0</td>\n",
       "      <td>2.0</td>\n",
       "      <td>ROUSS</td>\n",
       "      <td>2</td>\n",
       "      <td>6.209217e+07</td>\n",
       "      <td>44937.483837</td>\n",
       "    </tr>\n",
       "    <tr>\n",
       "      <th>98</th>\n",
       "      <td>Breathing Problem</td>\n",
       "      <td>-78.172535</td>\n",
       "      <td>39.168882</td>\n",
       "      <td>2016-12-08 18:05:36</td>\n",
       "      <td>POINT (-78.17253 39.16888)</td>\n",
       "      <td>3.0</td>\n",
       "      <td>4.0</td>\n",
       "      <td>SOUTH END</td>\n",
       "      <td>5</td>\n",
       "      <td>4.712386e+07</td>\n",
       "      <td>54023.736232</td>\n",
       "    </tr>\n",
       "    <tr>\n",
       "      <th>99</th>\n",
       "      <td>Sick Person</td>\n",
       "      <td>-78.172269</td>\n",
       "      <td>39.186694</td>\n",
       "      <td>2016-12-08 14:13:56</td>\n",
       "      <td>POINT (-78.17227 39.18669)</td>\n",
       "      <td>1.0</td>\n",
       "      <td>2.0</td>\n",
       "      <td>ROUSS</td>\n",
       "      <td>2</td>\n",
       "      <td>6.209217e+07</td>\n",
       "      <td>44937.483837</td>\n",
       "    </tr>\n",
       "  </tbody>\n",
       "</table>\n",
       "<p>100 rows × 11 columns</p>\n",
       "</div>"
      ],
      "text/plain": [
       "                       CallDescription  Longitude   Latitude  \\\n",
       "0                          Sick Person -78.164122  39.171316   \n",
       "1                                Falls -78.170729  39.167610   \n",
       "2                                Falls -78.159111  39.175520   \n",
       "3                          Sick Person -78.186034  39.138891   \n",
       "4                          Sick Person -78.165961  39.187564   \n",
       "..                                 ...        ...        ...   \n",
       "95  Unconscious/Fainting/Near-Fainting -78.168421  39.175851   \n",
       "96                         Sick Person -78.172269  39.186694   \n",
       "97                   Breathing Problem -78.180535  39.197024   \n",
       "98                   Breathing Problem -78.172535  39.168882   \n",
       "99                         Sick Person -78.172269  39.186694   \n",
       "\n",
       "          CallDateTime                    geometry  index_right  OBJECTID  \\\n",
       "0  2016-12-01 05:35:23  POINT (-78.16412 39.17132)          3.0       4.0   \n",
       "1  2016-12-01 10:03:51  POINT (-78.17073 39.16761)          3.0       4.0   \n",
       "2  2016-12-01 16:58:41  POINT (-78.15911 39.17552)          0.0       1.0   \n",
       "3  2016-12-01 20:42:58  POINT (-78.18603 39.13889)          2.0       3.0   \n",
       "4  2016-12-01 23:16:32  POINT (-78.16596 39.18756)          1.0       2.0   \n",
       "..                 ...                         ...          ...       ...   \n",
       "95 2016-12-07 15:52:33  POINT (-78.16842 39.17585)          3.0       4.0   \n",
       "96 2016-12-07 14:28:30  POINT (-78.17227 39.18669)          1.0       2.0   \n",
       "97 2016-12-08 21:30:47  POINT (-78.18054 39.19702)          1.0       2.0   \n",
       "98 2016-12-08 18:05:36  POINT (-78.17253 39.16888)          3.0       4.0   \n",
       "99 2016-12-08 14:13:56  POINT (-78.17227 39.18669)          1.0       2.0   \n",
       "\n",
       "          NAME STATION_NUM   SHAPESTArea  SHAPESTLength  \n",
       "0    SOUTH END           5  4.712386e+07   54023.736232  \n",
       "1    SOUTH END           5  4.712386e+07   54023.736232  \n",
       "2   FRIENDSHIP           1  5.355029e+07   45003.624106  \n",
       "3      SHAWNEE           4  9.493346e+07   48784.408074  \n",
       "4        ROUSS           2  6.209217e+07   44937.483837  \n",
       "..         ...         ...           ...            ...  \n",
       "95   SOUTH END           5  4.712386e+07   54023.736232  \n",
       "96       ROUSS           2  6.209217e+07   44937.483837  \n",
       "97       ROUSS           2  6.209217e+07   44937.483837  \n",
       "98   SOUTH END           5  4.712386e+07   54023.736232  \n",
       "99       ROUSS           2  6.209217e+07   44937.483837  \n",
       "\n",
       "[100 rows x 11 columns]"
      ]
     },
     "execution_count": 143,
     "metadata": {},
     "output_type": "execute_result"
    }
   ],
   "source": [
    "classified.head(100)\n",
    "\n"
   ]
  },
  {
   "cell_type": "code",
   "execution_count": 144,
   "metadata": {
    "ExecuteTime": {
     "end_time": "2025-04-02T18:40:11.213933Z",
     "start_time": "2025-04-02T18:40:11.132300Z"
    }
   },
   "outputs": [],
   "source": [
    "calls_by_district = classified[['CallDescription', 'CallDateTime', 'NAME']]\n",
    "calls_by_district.to_csv('../data/clean/calls_by_district.csv', index=False)\n"
   ]
  },
  {
   "cell_type": "code",
   "execution_count": 145,
   "metadata": {
    "ExecuteTime": {
     "end_time": "2025-04-03T03:49:53.713878Z",
     "start_time": "2025-04-03T03:49:53.454772Z"
    }
   },
   "outputs": [
    {
     "name": "stdout",
     "output_type": "stream",
     "text": [
      "<class 'pandas._libs.tslibs.timestamps.Timestamp'>\n"
     ]
    }
   ],
   "source": [
    "# We are going to break the day into eight 3-hour time slots. 12:00 am to 3:00 am, 3:00 am to 6:00 am\n",
    "print(type(calls_by_district['CallDateTime'][0]))\n",
    "\n",
    "calls_by_district_and_time_segment = calls_by_district.copy()\n",
    "\n",
    "# make sure the timestamp is in datetime format\n",
    "calls_by_district_and_time_segment['CallDateTime'] = pd.to_datetime(calls_by_district_and_time_segment['CallDateTime'])\n",
    "\n",
    "# 1. Day of the week (Sunday–Saturday)\n",
    "calls_by_district_and_time_segment['weekday'] = calls_by_district_and_time_segment['CallDateTime'].dt.day_name()\n",
    "\n",
    "# 2. Week of the year (1–52)\n",
    "calls_by_district_and_time_segment['week_of_year'] = calls_by_district_and_time_segment['CallDateTime'].dt.isocalendar().week\n",
    "\n",
    "calls_by_district_and_time_segment['year'] = calls_by_district_and_time_segment['CallDateTime'].dt.isocalendar().year\n",
    "\n",
    "# 3. 3-hour time segments\n",
    "segment_index = calls_by_district_and_time_segment['CallDateTime'].dt.hour // 3\n",
    "segment_labels = [\n",
    "        'MORNING_1',   # 00:00–03:00\n",
    "        'MORNING_2',   # 03:00–06:00\n",
    "        'MORNING_3',   # 06:00–09:00\n",
    "        'MORNING_4',   # 09:00–12:00\n",
    "        'AFTERNOON_1', # 12:00–15:00\n",
    "        'AFTERNOON_2', # 15:00–18:00\n",
    "        'AFTERNOON_3', # 18:00–21:00\n",
    "        'AFTERNOON_4'  # 21:00–00:00\n",
    "]\n",
    "calls_by_district_and_time_segment['time_segment'] = segment_index.map(dict(enumerate(segment_labels)))\n",
    "\n",
    "\n"
   ]
  },
  {
   "cell_type": "code",
   "execution_count": 146,
   "metadata": {
    "ExecuteTime": {
     "end_time": "2025-04-03T03:49:56.162684Z",
     "start_time": "2025-04-03T03:49:56.102941Z"
    }
   },
   "outputs": [],
   "source": [
    "\n",
    "\n",
    "# calls_by_district_and_time_segment = calls_by_district_and_time_segment[['CallDescription', 'NAME', 'weekday', 'week_of_year', 'time_segment']]\n",
    "#\n",
    "# calls_by_district_and_time_segment.head(30)\n",
    "#\n",
    "# calls_by_district_and_time_segment.to_csv('../data/clean/calls_by_district_and_time_segment.csv', index=False)\n",
    "\n",
    "calls_by_district_and_time_segment = calls_by_district_and_time_segment[['CallDescription', 'NAME', 'weekday', 'week_of_year', 'time_segment', 'year']]\n",
    "calls_by_district_and_time_segment.to_csv('../data/clean/calls_by_district_and_time_segment_with_year.csv', index=False)"
   ]
  },
  {
   "cell_type": "code",
   "execution_count": 147,
   "metadata": {},
   "outputs": [
    {
     "name": "stdout",
     "output_type": "stream",
     "text": [
      "doing calls_by_district\n",
      "doing calls\n",
      "doing calls_general\n",
      "doing calls_specific\n"
     ]
    }
   ],
   "source": [
    "import pandas as pd\n",
    "\n",
    "# Load and prep weather data\n",
    "weather = pd.read_csv(\"../data/clean/weather_clean.csv\")\n",
    "weather['DATE'] = pd.to_datetime(weather['DATE'])\n",
    "weather['date'] = weather['DATE'].dt.date  \n",
    "\n",
    "# DataFrame names\n",
    "call_df_names = [\n",
    "    'calls_by_district',\n",
    "    # 'calls_by_district_and_time_segment',\n",
    "    # 'calls_by_district_and_time_segment_with_year',\n",
    "    'calls',\n",
    "    'calls_general',\n",
    "    'calls_specific'\n",
    "]\n",
    "\n",
    "# Merge and save\n",
    "for name in call_df_names:\n",
    "    print(f\"doing {name}\")\n",
    "    original_df = globals()[name].copy()\n",
    "    \n",
    "    # Ensure datetime and extract date\n",
    "    original_df['CallDateTime'] = pd.to_datetime(original_df['CallDateTime'])\n",
    "    original_df['date'] = original_df['CallDateTime'].dt.date\n",
    "    \n",
    "    # Merge on 'date'\n",
    "    merged_df = original_df.merge(weather, on='date', how='left')\n",
    "\n",
    "    # New variable name\n",
    "    new_name = f\"{name}_weather\"\n",
    "    globals()[new_name] = merged_df\n",
    "\n",
    "    # Save\n",
    "    merged_df.to_csv(f\"../data/clean/{new_name}.csv\", index=False)\n"
   ]
  }
 ],
 "metadata": {
  "kernelspec": {
   "display_name": "Python 3",
   "language": "python",
   "name": "python3"
  },
  "language_info": {
   "codemirror_mode": {
    "name": "ipython",
    "version": 3
   },
   "file_extension": ".py",
   "mimetype": "text/x-python",
   "name": "python",
   "nbconvert_exporter": "python",
   "pygments_lexer": "ipython3",
   "version": "3.11.1"
  }
 },
 "nbformat": 4,
 "nbformat_minor": 2
}
