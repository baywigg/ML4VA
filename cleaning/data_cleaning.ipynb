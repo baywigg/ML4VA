{
 "cells": [
  {
   "cell_type": "code",
   "execution_count": 76,
   "metadata": {},
   "outputs": [],
   "source": [
    "import pandas as pd"
   ]
  },
  {
   "cell_type": "code",
   "execution_count": 77,
   "metadata": {},
   "outputs": [
    {
     "data": {
      "text/html": [
       "<div>\n",
       "<style scoped>\n",
       "    .dataframe tbody tr th:only-of-type {\n",
       "        vertical-align: middle;\n",
       "    }\n",
       "\n",
       "    .dataframe tbody tr th {\n",
       "        vertical-align: top;\n",
       "    }\n",
       "\n",
       "    .dataframe thead th {\n",
       "        text-align: right;\n",
       "    }\n",
       "</style>\n",
       "<table border=\"1\" class=\"dataframe\">\n",
       "  <thead>\n",
       "    <tr style=\"text-align: right;\">\n",
       "      <th></th>\n",
       "      <th>IncidentNumber</th>\n",
       "      <th>CallDescription</th>\n",
       "      <th>Longitude</th>\n",
       "      <th>Latitude</th>\n",
       "      <th>CallDateTime</th>\n",
       "    </tr>\n",
       "  </thead>\n",
       "  <tbody>\n",
       "    <tr>\n",
       "      <th>0</th>\n",
       "      <td>16-048239</td>\n",
       "      <td>Sick Person</td>\n",
       "      <td>-78.164122</td>\n",
       "      <td>39.171316</td>\n",
       "      <td>2016-12-01 05:35:23</td>\n",
       "    </tr>\n",
       "    <tr>\n",
       "      <th>1</th>\n",
       "      <td>16-048253</td>\n",
       "      <td>Falls</td>\n",
       "      <td>-78.170729</td>\n",
       "      <td>39.167610</td>\n",
       "      <td>2016-12-01 10:03:51</td>\n",
       "    </tr>\n",
       "    <tr>\n",
       "      <th>2</th>\n",
       "      <td>16-048320</td>\n",
       "      <td>Falls</td>\n",
       "      <td>-78.159111</td>\n",
       "      <td>39.175520</td>\n",
       "      <td>2016-12-01 16:58:41</td>\n",
       "    </tr>\n",
       "    <tr>\n",
       "      <th>3</th>\n",
       "      <td>16-048340</td>\n",
       "      <td>Sick Person</td>\n",
       "      <td>-78.186034</td>\n",
       "      <td>39.138891</td>\n",
       "      <td>2016-12-01 20:42:58</td>\n",
       "    </tr>\n",
       "    <tr>\n",
       "      <th>4</th>\n",
       "      <td>16-048354</td>\n",
       "      <td>Sick Person</td>\n",
       "      <td>-78.165961</td>\n",
       "      <td>39.187564</td>\n",
       "      <td>2016-12-01 23:16:32</td>\n",
       "    </tr>\n",
       "  </tbody>\n",
       "</table>\n",
       "</div>"
      ],
      "text/plain": [
       "  IncidentNumber CallDescription  Longitude   Latitude        CallDateTime\n",
       "0      16-048239     Sick Person -78.164122  39.171316 2016-12-01 05:35:23\n",
       "1      16-048253           Falls -78.170729  39.167610 2016-12-01 10:03:51\n",
       "2      16-048320           Falls -78.159111  39.175520 2016-12-01 16:58:41\n",
       "3      16-048340     Sick Person -78.186034  39.138891 2016-12-01 20:42:58\n",
       "4      16-048354     Sick Person -78.165961  39.187564 2016-12-01 23:16:32"
      ]
     },
     "execution_count": 77,
     "metadata": {},
     "output_type": "execute_result"
    }
   ],
   "source": [
    "calls = pd.read_excel('../data/Winchester_EMS_calls_RAW.xls')\n",
    "calls.head()"
   ]
  },
  {
   "cell_type": "code",
   "execution_count": 78,
   "metadata": {},
   "outputs": [
    {
     "data": {
      "text/html": [
       "<div>\n",
       "<style scoped>\n",
       "    .dataframe tbody tr th:only-of-type {\n",
       "        vertical-align: middle;\n",
       "    }\n",
       "\n",
       "    .dataframe tbody tr th {\n",
       "        vertical-align: top;\n",
       "    }\n",
       "\n",
       "    .dataframe thead th {\n",
       "        text-align: right;\n",
       "    }\n",
       "</style>\n",
       "<table border=\"1\" class=\"dataframe\">\n",
       "  <thead>\n",
       "    <tr style=\"text-align: right;\">\n",
       "      <th></th>\n",
       "      <th>CallDescription</th>\n",
       "      <th>Longitude</th>\n",
       "      <th>Latitude</th>\n",
       "      <th>CallDateTime</th>\n",
       "    </tr>\n",
       "  </thead>\n",
       "  <tbody>\n",
       "    <tr>\n",
       "      <th>0</th>\n",
       "      <td>Sick Person</td>\n",
       "      <td>-78.164122</td>\n",
       "      <td>39.171316</td>\n",
       "      <td>2016-12-01 05:35:23</td>\n",
       "    </tr>\n",
       "    <tr>\n",
       "      <th>1</th>\n",
       "      <td>Falls</td>\n",
       "      <td>-78.170729</td>\n",
       "      <td>39.167610</td>\n",
       "      <td>2016-12-01 10:03:51</td>\n",
       "    </tr>\n",
       "    <tr>\n",
       "      <th>2</th>\n",
       "      <td>Falls</td>\n",
       "      <td>-78.159111</td>\n",
       "      <td>39.175520</td>\n",
       "      <td>2016-12-01 16:58:41</td>\n",
       "    </tr>\n",
       "    <tr>\n",
       "      <th>3</th>\n",
       "      <td>Sick Person</td>\n",
       "      <td>-78.186034</td>\n",
       "      <td>39.138891</td>\n",
       "      <td>2016-12-01 20:42:58</td>\n",
       "    </tr>\n",
       "    <tr>\n",
       "      <th>4</th>\n",
       "      <td>Sick Person</td>\n",
       "      <td>-78.165961</td>\n",
       "      <td>39.187564</td>\n",
       "      <td>2016-12-01 23:16:32</td>\n",
       "    </tr>\n",
       "  </tbody>\n",
       "</table>\n",
       "</div>"
      ],
      "text/plain": [
       "  CallDescription  Longitude   Latitude        CallDateTime\n",
       "0     Sick Person -78.164122  39.171316 2016-12-01 05:35:23\n",
       "1           Falls -78.170729  39.167610 2016-12-01 10:03:51\n",
       "2           Falls -78.159111  39.175520 2016-12-01 16:58:41\n",
       "3     Sick Person -78.186034  39.138891 2016-12-01 20:42:58\n",
       "4     Sick Person -78.165961  39.187564 2016-12-01 23:16:32"
      ]
     },
     "execution_count": 78,
     "metadata": {},
     "output_type": "execute_result"
    }
   ],
   "source": [
    "# Dropping the IncidentNumber column as it is not needed for training\n",
    "calls = calls.drop(columns=['IncidentNumber'])\n",
    "# Changing CallDateTime to datetime\n",
    "calls['CallDateTime'] = pd.to_datetime(calls['CallDateTime'])\n",
    "calls.head()"
   ]
  },
  {
   "cell_type": "code",
   "execution_count": 79,
   "metadata": {},
   "outputs": [
    {
     "data": {
      "text/plain": [
       "array(['Sick Person', 'Falls', 'Unknown Problem/Person Down',\n",
       "       'Overdose/Poisoning/Ingestion', 'Chest Pain (Non-Traumatic)',\n",
       "       'Hemorrhage/Laceration', 'Traumatic Injury',\n",
       "       'Unconscious/Fainting/Near-Fainting', 'Cardiac Arrest/Death',\n",
       "       'Z-Other', 'Back Pain (Non-Traumatic)',\n",
       "       'Traffic/Transportation Incident', 'Heart Problems/AICD',\n",
       "       'Breathing Problem', 'Pregnancy/Childbirth/Miscarriage',\n",
       "       'Abdominal Pain/Problems', 'Convulsions/Seizure',\n",
       "       'Diabetic Problem', 'Stroke/CVA', 'Burns/Explosion',\n",
       "       'Allergic Reaction/Stings',\n",
       "       'Carbon Monoxide/Hazmat/Inhalation/CBRN',\n",
       "       'No Other Appropriate Choice',\n",
       "       'Industrial Accident/Inaccessible Incident/Other Entrapments (Non-Vehicle)',\n",
       "       'Assault', 'Headache',\n",
       "       'Psychiatric Problem/Abnormal Behavior/Suicide Attempt',\n",
       "       'Stab/Gunshot Wound/Penetrating Trauma', 'Animal Bite',\n",
       "       'Transfer/Interfacility/Palliative Care', 'Medical Alarm',\n",
       "       'Choking', 'Eye Problem/Injury', 'Fire', 'Standby',\n",
       "       'Electrocution/Lightning', 'Heat/Cold Exposure',\n",
       "       'Drowning/Diving/SCUBA Accident', 'Well Person Check'],\n",
       "      dtype=object)"
      ]
     },
     "execution_count": 79,
     "metadata": {},
     "output_type": "execute_result"
    }
   ],
   "source": [
    "# Find the unique values in the CallDescription column\n",
    "calls['CallDescription'].unique()"
   ]
  },
  {
   "cell_type": "code",
   "execution_count": 80,
   "metadata": {},
   "outputs": [
    {
     "data": {
      "text/plain": [
       "CallDescription\n",
       "Sick Person                                                                  8556\n",
       "Breathing Problem                                                            4536\n",
       "Falls                                                                        4367\n",
       "Chest Pain (Non-Traumatic)                                                   3397\n",
       "Unconscious/Fainting/Near-Fainting                                           2809\n",
       "No Other Appropriate Choice                                                  2385\n",
       "Z-Other                                                                      1906\n",
       "Convulsions/Seizure                                                          1699\n",
       "Hemorrhage/Laceration                                                        1543\n",
       "Traffic/Transportation Incident                                              1478\n",
       "Abdominal Pain/Problems                                                      1251\n",
       "Overdose/Poisoning/Ingestion                                                  942\n",
       "Stroke/CVA                                                                    807\n",
       "Heart Problems/AICD                                                           800\n",
       "Diabetic Problem                                                              779\n",
       "Assault                                                                       777\n",
       "Cardiac Arrest/Death                                                          757\n",
       "Unknown Problem/Person Down                                                   692\n",
       "Fire                                                                          629\n",
       "Traumatic Injury                                                              562\n",
       "Back Pain (Non-Traumatic)                                                     511\n",
       "Allergic Reaction/Stings                                                      462\n",
       "Headache                                                                      291\n",
       "Pregnancy/Childbirth/Miscarriage                                              208\n",
       "Psychiatric Problem/Abnormal Behavior/Suicide Attempt                         208\n",
       "Choking                                                                       169\n",
       "Industrial Accident/Inaccessible Incident/Other Entrapments (Non-Vehicle)     124\n",
       "Stab/Gunshot Wound/Penetrating Trauma                                          86\n",
       "Eye Problem/Injury                                                             73\n",
       "Animal Bite                                                                    63\n",
       "Carbon Monoxide/Hazmat/Inhalation/CBRN                                         59\n",
       "Burns/Explosion                                                                36\n",
       "Standby                                                                        12\n",
       "Medical Alarm                                                                  10\n",
       "Transfer/Interfacility/Palliative Care                                          9\n",
       "Heat/Cold Exposure                                                              7\n",
       "Drowning/Diving/SCUBA Accident                                                  4\n",
       "Electrocution/Lightning                                                         3\n",
       "Well Person Check                                                               2\n",
       "Name: count, dtype: int64"
      ]
     },
     "execution_count": 80,
     "metadata": {},
     "output_type": "execute_result"
    }
   ],
   "source": [
    "# Get the values counts\n",
    "calls['CallDescription'].value_counts()"
   ]
  },
  {
   "cell_type": "code",
   "execution_count": 81,
   "metadata": {},
   "outputs": [],
   "source": [
    "# Combine some of the call descriptions into more general categories\n",
    "def combine_call_descriptions(call_type, mapping):\n",
    "    for cat, type in mapping.items():\n",
    "        if call_type in type:\n",
    "            return cat\n",
    "    return \"Other\""
   ]
  },
  {
   "cell_type": "code",
   "execution_count": 82,
   "metadata": {},
   "outputs": [],
   "source": [
    "# Mappings for specific call descriptions\n",
    "mapping_specific = {\n",
    "        \"General Medical Issue\": [\"Sick Person\", \"Unknown Problem/Person Down\", \"Medical Alarm\", \"No Other Appropriate Choice\"],\n",
    "        \"Cardiac & Circulatory Issues\": [\"Chest Pain (Non-Traumatic)\", \"Cardiac Arrest/Death\", \"Heart Problems/AICD\", \"Stroke/CVA\"],\n",
    "        \"Respiratory Issues\": [\"Breathing Problem\", \"Choking\", \"Carbon Monoxide/Hazmat/Inhalation/CBRN\"],\n",
    "        \"Neurological Issues\": [\"Convulsions/Seizure\", \"Headache\"],\n",
    "        \"Diabetic & Metabolic Issues\": [\"Diabetic Problem\", \"Heat/Cold Exposure\"],\n",
    "        \"Pregnancy & Birth-Related\": [\"Pregnancy/Childbirth/Miscarriage\"],\n",
    "        \"Falls & Minor Trauma\": [\"Falls\", \"Back Pain (Non-Traumatic)\", \"Traumatic Injury\"],\n",
    "        \"Serious Trauma & Wounds\": [\"Stab/Gunshot Wound/Penetrating Trauma\", \"Hemorrhage/Laceration\", \"Burns/Explosion\"],\n",
    "        \"Vehicle & Industrial Accidents\": [\"Traffic/Transportation Incident\", \"Industrial Accident/Inaccessible Incident/Other Entrapments (Non-Vehicle)\", \"Electrocution/Lightning\"],\n",
    "        \"Assault & Violence\": [\"Assault\", \"Animal Bite\"],\n",
    "        \"Drowning & Environmental Exposure\": [\"Drowning/Diving/SCUBA Accident\"],\n",
    "        \"Mental Health & Suicide\": [\"Psychiatric Problem/Abnormal Behavior/Suicide Attempt\"],\n",
    "        \"Substance-Related Issues\": [\"Overdose/Poisoning/Ingestion\", \"Allergic Reaction/Stings\"],\n",
    "        \"Non-Urgent Transport & Checks\": [\"Transfer/Interfacility/Palliative Care\", \"Well Person Check\", \"Standby\"]\n",
    "    }\n",
    "\n",
    "mapping_general = {\n",
    "        \"Medical Emergencies\": [\"Sick Person\", \"Unknown Problem/Person Down\", \"Medical Alarm\", \"No Other Appropriate Choice\", \n",
    "                \"Chest Pain (Non-Traumatic)\", \"Cardiac Arrest/Death\", \"Heart Problems/AICD\", \"Stroke/CVA\",\n",
    "                \"Breathing Problem\", \"Choking\", \"Carbon Monoxide/Hazmat/Inhalation/CBRN\",\n",
    "                \"Convulsions/Seizure\", \"Headache\", \"Diabetic Problem\", \"Heat/Cold Exposure\",\n",
    "                \"Pregnancy/Childbirth/Miscarriage\"],\n",
    "        \"Trauma & Injury\": [\"Falls\", \"Back Pain (Non-Traumatic)\", \"Traumatic Injury\", \"Stab/Gunshot Wound/Penetrating Trauma\", \n",
    "                \"Hemorrhage/Laceration\", \"Burns/Explosion\", \"Traffic/Transportation Incident\", \n",
    "                \"Industrial Accident/Inaccessible Incident/Other Entrapments (Non-Vehicle)\", \"Electrocution/Lightning\", \n",
    "                \"Assault\", \"Animal Bite\", \"Drowning/Diving/SCUBA Accident\"],\n",
    "        \"Behavioral & Psychiatric Issues\": [\"Psychiatric Problem/Abnormal Behavior/Suicide Attempt\"],\n",
    "        \"Non-Urgent Calls\": [\"Overdose/Poisoning/Ingestion\", \"Allergic Reaction/Stings\", \"Transfer/Interfacility/Palliative Care\", \n",
    "                \"Well Person Check\", \"Standby\"]\n",
    "}"
   ]
  },
  {
   "cell_type": "code",
   "execution_count": 83,
   "metadata": {},
   "outputs": [],
   "source": [
    "# Apply the function to the CallDescription column  \n",
    "calls_specific_col = calls['CallDescription'].apply(combine_call_descriptions, mapping=mapping_specific)\n",
    "calls_general_col = calls['CallDescription'].apply(combine_call_descriptions, mapping=mapping_general)"
   ]
  },
  {
   "cell_type": "code",
   "execution_count": 84,
   "metadata": {},
   "outputs": [],
   "source": [
    "# Create two new dataframes with each mapping\n",
    "calls_specific = calls.copy()\n",
    "calls_general = calls.copy()\n",
    "\n",
    "calls_specific['CallDescription'] = calls_specific_col\n",
    "calls_general['CallDescription'] = calls_general_col"
   ]
  },
  {
   "cell_type": "code",
   "execution_count": 85,
   "metadata": {},
   "outputs": [],
   "source": [
    "# Save the new dataframes to csv files\n",
    "calls_specific.to_csv('../data/clean/calls_specific.csv', index=False)\n",
    "calls_general.to_csv('../data/clean/calls_general.csv', index=False)\n",
    "calls.to_csv('../data/clean/calls_full.csv', index=False)"
   ]
  }
 ],
 "metadata": {
  "kernelspec": {
   "display_name": "Python 3",
   "language": "python",
   "name": "python3"
  },
  "language_info": {
   "codemirror_mode": {
    "name": "ipython",
    "version": 3
   },
   "file_extension": ".py",
   "mimetype": "text/x-python",
   "name": "python",
   "nbconvert_exporter": "python",
   "pygments_lexer": "ipython3",
   "version": "3.11.1"
  }
 },
 "nbformat": 4,
 "nbformat_minor": 2
}
