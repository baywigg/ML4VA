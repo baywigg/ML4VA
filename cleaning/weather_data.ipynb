{
 "cells": [
  {
   "cell_type": "code",
   "execution_count": 76,
   "id": "7ed9c69f",
   "metadata": {},
   "outputs": [
    {
     "name": "stdout",
     "output_type": "stream",
     "text": [
      "<class 'pandas.core.frame.DataFrame'>\n",
      "RangeIndex: 3253 entries, 0 to 3252\n",
      "Data columns (total 25 columns):\n",
      " #   Column           Non-Null Count  Dtype  \n",
      "---  ------           --------------  -----  \n",
      " 0   NAME             3253 non-null   object \n",
      " 1   LATITUDE         3253 non-null   object \n",
      " 2   LONGITUDE        3253 non-null   float64\n",
      " 3   ELEVATION        3253 non-null   float64\n",
      " 4   DATE             3253 non-null   float64\n",
      " 5   DAPR             3253 non-null   object \n",
      " 6   DAPR_ATTRIBUTES  4 non-null      float64\n",
      " 7   MDPR             4 non-null      object \n",
      " 8   MDPR_ATTRIBUTES  4 non-null      float64\n",
      " 9   PRCP             4 non-null      object \n",
      " 10  PRCP_ATTRIBUTES  3210 non-null   float64\n",
      " 11  SNOW             3210 non-null   object \n",
      " 12  SNOW_ATTRIBUTES  3244 non-null   float64\n",
      " 13  SNWD             3244 non-null   object \n",
      " 14  SNWD_ATTRIBUTES  3241 non-null   float64\n",
      " 15  TMAX             3241 non-null   object \n",
      " 16  TMAX_ATTRIBUTES  3202 non-null   float64\n",
      " 17  TMIN             3202 non-null   object \n",
      " 18  TMIN_ATTRIBUTES  3179 non-null   float64\n",
      " 19  TOBS             3179 non-null   object \n",
      " 20  TOBS_ATTRIBUTES  3216 non-null   float64\n",
      " 21  WT01             3216 non-null   object \n",
      " 22  WT01_ATTRIBUTES  0 non-null      float64\n",
      " 23  WT11             0 non-null      float64\n",
      " 24  WT11_ATTRIBUTES  0 non-null      float64\n",
      "dtypes: float64(14), object(11)\n",
      "memory usage: 635.5+ KB\n"
     ]
    }
   ],
   "source": [
    "import pandas as pd\n",
    "weather = pd.read_csv(\"../data/weather_data.csv\")\n",
    "weather.info()"
   ]
  },
  {
   "cell_type": "code",
   "execution_count": 77,
   "id": "851e3324",
   "metadata": {},
   "outputs": [],
   "source": [
    "# Shift the columns, this removes the NAME data, but would be removed anyway\n",
    "weather = weather.shift(-1, axis=1)\n",
    "\n",
    "# Remove unneeded columns\n",
    "cols_to_remove = [\"NAME\", \"LATITUDE\", \"LONGITUDE\", \"ELEVATION\", \"DAPR\", \"DAPR_ATTRIBUTES\", \"MDPR\", \"MDPR_ATTRIBUTES\", \"PRCP_ATTRIBUTES\", \"SNOW_ATTRIBUTES\", \"SNWD_ATTRIBUTES\", \"TMAX_ATTRIBUTES\", \"TMIN_ATTRIBUTES\", \"TOBS_ATTRIBUTES\", \"WT01\", \"WT01_ATTRIBUTES\", \"WT11\", \"WT11_ATTRIBUTES\"]\n",
    "\n",
    "weather = weather.drop(columns=cols_to_remove)"
   ]
  },
  {
   "cell_type": "code",
   "execution_count": 78,
   "id": "b54d6b17",
   "metadata": {},
   "outputs": [
    {
     "name": "stderr",
     "output_type": "stream",
     "text": [
      "/var/folders/rw/kqv4w2bj5hx2v1ln61zfm4pr0000gn/T/ipykernel_93256/1667900955.py:14: UserWarning: Could not infer format, so each element will be parsed individually, falling back to `dateutil`. To ensure parsing is consistent and as-expected, please specify a format.\n",
      "  weather[\"DATE\"] = pd.to_datetime(weather[\"DATE\"])\n"
     ]
    }
   ],
   "source": [
    "# mm->in and C->F\n",
    "def convert_to_freedom_units(row):\n",
    "    mm_to_inches = lambda mm: mm / 25.4\n",
    "    c_to_f = lambda c: (c * 9/5) + 32\n",
    "\n",
    "    if row.name in ['PRCP', 'SNOW', 'SNWD']:\n",
    "        return mm_to_inches(row)\n",
    "    elif row.name in ['TMAX', 'TMIN', 'TOBS']:\n",
    "        return c_to_f(row)\n",
    "    else:\n",
    "        return row\n",
    "\n",
    "# Case date to a datetime object in pandas\n",
    "weather[\"DATE\"] = pd.to_datetime(weather[\"DATE\"])\n",
    "# Apply freedom units\n",
    "weather = weather.apply(convert_to_freedom_units, axis=0)"
   ]
  },
  {
   "cell_type": "code",
   "execution_count": 79,
   "id": "3a1b93d8",
   "metadata": {},
   "outputs": [],
   "source": [
    "# Fill all NaNs in specified columns by averaging the nearest non-null values before and after each missing value. Guarantees no NaNs remain in those columns.\n",
    "def fill_all_missing_with_surrounding_avg(df, columns):\n",
    "\n",
    "    df_filled = df.copy()\n",
    "\n",
    "    for col in columns:\n",
    "        series = df_filled[col]\n",
    "\n",
    "        # Iterate until no NaNs remain\n",
    "        while series.isna().any():\n",
    "            nan_indices = series[series.isna()].index\n",
    "\n",
    "            for idx in nan_indices:\n",
    "                prev_idx = series.loc[:idx].last_valid_index()\n",
    "                next_idx = series.loc[idx:].first_valid_index()\n",
    "\n",
    "                prev_val = series[prev_idx] if prev_idx is not None else None\n",
    "                next_val = series[next_idx] if next_idx is not None else None\n",
    "\n",
    "                if prev_val is not None and next_val is not None:\n",
    "                    series.at[idx] = (prev_val + next_val) / 2\n",
    "                elif prev_val is not None:\n",
    "                    series.at[idx] = prev_val\n",
    "                elif next_val is not None:\n",
    "                    series.at[idx] = next_val\n",
    "                # If both are still None (entire column is NaN), you'd need fallback\n",
    "                # But this loop ensures it keeps going until it's full\n",
    "\n",
    "        df_filled[col] = series\n",
    "\n",
    "    return df_filled\n",
    "\n",
    "weather = fill_all_missing_with_surrounding_avg(weather, ['PRCP', 'SNOW', 'SNWD', 'TMAX', 'TMIN', 'TOBS'])"
   ]
  },
  {
   "cell_type": "code",
   "execution_count": 80,
   "id": "c31002e6",
   "metadata": {},
   "outputs": [],
   "source": [
    "weather.to_csv(\"../data/clean/weather_clean.csv\", index=False)"
   ]
  }
 ],
 "metadata": {
  "kernelspec": {
   "display_name": "Python 3",
   "language": "python",
   "name": "python3"
  },
  "language_info": {
   "codemirror_mode": {
    "name": "ipython",
    "version": 3
   },
   "file_extension": ".py",
   "mimetype": "text/x-python",
   "name": "python",
   "nbconvert_exporter": "python",
   "pygments_lexer": "ipython3",
   "version": "3.11.1"
  }
 },
 "nbformat": 4,
 "nbformat_minor": 5
}
